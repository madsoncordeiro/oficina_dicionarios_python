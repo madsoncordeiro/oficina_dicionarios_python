{
  "nbformat": 4,
  "nbformat_minor": 0,
  "metadata": {
    "colab": {
      "provenance": []
    },
    "kernelspec": {
      "name": "python3",
      "display_name": "Python 3"
    },
    "language_info": {
      "name": "python"
    }
  },
  "cells": [
    {
      "cell_type": "code",
      "execution_count": 1,
      "metadata": {
        "id": "j-QsBm9xsSYu"
      },
      "outputs": [],
      "source": [
        "livros = {}\n",
        "\n",
        "livros ['Odisseia'] = {'Título': 'Odisseia', 'Gênero': 'Poema', 'Subgênero': 'Épico', 'Editora': 'Principis', 'Número de cópias em loja': '10327', 'Valor em reais': '17.39'}\n",
        "livros ['A divina comédia'] = {'Título': 'A divina comédia', 'Gênero': 'Poesia', 'Subgênero': 'Épico', 'Editora': 'Principis', 'Número de cópias em loja': '9531', 'Valor em reais': '37.42'}\n",
        "livros ['Decamerão'] = {'Título': 'Decamerão', 'Gênero': 'Conto', 'Subgênero': 'Sátira', 'Editora': 'Nova Fronteira', 'Número de cópias em loja': '4692', 'Valor em reais': '71.40'}\n",
        "livros ['Romeu e Julieta'] = {'Título': 'Romeu e Julieta', 'Gênero': 'Tragédia', 'Subgênero': 'Romance', 'Editora': 'Principis', 'Número de cópias em loja': '14503', 'Valor em reais': '16'}\n",
        "livros ['Os Lusíadas'] = {'Título': 'Os Lusíadas', 'Gênero': 'Poema', 'Subgênero': 'Épico', 'Editora': 'Pé da Letra', 'Número de cópias em loja': '19346', 'Valor em reais': '19.17'}"
      ]
    },
    {
      "cell_type": "code",
      "source": [
        "for livro, dados in livros.items():\n",
        "    print('Dados de {}:'.format(livro))\n",
        "    for chave, dados in dados.items():\n",
        "        print('{} - {}'.format(chave, dados))\n",
        "    print('')"
      ],
      "metadata": {
        "colab": {
          "base_uri": "https://localhost:8080/"
        },
        "id": "E0u5iGCtteZl",
        "outputId": "ca819ed3-a8e1-4071-a888-9a2e0923c3a3"
      },
      "execution_count": 2,
      "outputs": [
        {
          "output_type": "stream",
          "name": "stdout",
          "text": [
            "Dados de Odisseia:\n",
            "Título - Odisseia\n",
            "Gênero - Poema\n",
            "Subgênero - Épico\n",
            "Editora - Principis\n",
            "Número de cópias em loja - 10327\n",
            "Valor em reais - 17.39\n",
            "\n",
            "Dados de A divina comédia:\n",
            "Título - A divina comédia\n",
            "Gênero - Poesia\n",
            "Subgênero - Épico\n",
            "Editora - Principis\n",
            "Número de cópias em loja - 9531\n",
            "Valor em reais - 37.42\n",
            "\n",
            "Dados de Decamerão:\n",
            "Título - Decamerão\n",
            "Gênero - Conto\n",
            "Subgênero - Sátira\n",
            "Editora - Nova Fronteira\n",
            "Número de cópias em loja - 4692\n",
            "Valor em reais - 71.40\n",
            "\n",
            "Dados de Romeu e Julieta:\n",
            "Título - Romeu e Julieta\n",
            "Gênero - Tragédia\n",
            "Subgênero - Romance\n",
            "Editora - Principis\n",
            "Número de cópias em loja - 14503\n",
            "Valor em reais - 16\n",
            "\n",
            "Dados de Os Lusíadas:\n",
            "Título - Os Lusíadas\n",
            "Gênero - Poema\n",
            "Subgênero - Épico\n",
            "Editora - Pé da Letra\n",
            "Número de cópias em loja - 19346\n",
            "Valor em reais - 19.17\n",
            "\n"
          ]
        }
      ]
    }
  ]
}